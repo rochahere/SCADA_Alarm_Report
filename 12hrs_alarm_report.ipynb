{
 "cells": [
  {
   "cell_type": "markdown",
   "metadata": {},
   "source": [
    "# 12Hrs Alarm Notification Report\n",
    "\n",
    "\n",
    "by Alberto Rocha"
   ]
  },
  {
   "cell_type": "markdown",
   "metadata": {},
   "source": [
    "This report will get you the quantity of alarms by device and setpoint. You will need to change the location of you file under \"report\" variable and the name of your sheet under \"sheetname\" variable"
   ]
  },
  {
   "cell_type": "markdown",
   "metadata": {},
   "source": [
    "## Importing libraries"
   ]
  },
  {
   "cell_type": "code",
   "execution_count": 1,
   "metadata": {},
   "outputs": [],
   "source": [
    "import pandas as pd"
   ]
  },
  {
   "cell_type": "markdown",
   "metadata": {},
   "source": [
    "## Set variables"
   ]
  },
  {
   "cell_type": "code",
   "execution_count": 2,
   "metadata": {},
   "outputs": [],
   "source": [
    "# Set report location\n",
    "report = 'report.xlsx'\n",
    "\n",
    "# Set sheet name\n",
    "sheetName = 'AlarmNotificationsReport'"
   ]
  },
  {
   "cell_type": "markdown",
   "metadata": {},
   "source": [
    "## Import file ans show column names"
   ]
  },
  {
   "cell_type": "code",
   "execution_count": 3,
   "metadata": {},
   "outputs": [
    {
     "name": "stdout",
     "output_type": "stream",
     "text": [
      "Raw column names: \n",
      " \n",
      "Device\n",
      "Tags\n",
      "Alarm Setpoint Message\n",
      "Alarm Timestamp\n",
      "Clear Timestamp\n",
      "Clear Message\n",
      "Alarm Setpoint\n",
      "Recipients\n",
      "Hours Currently in Alarm\n",
      "Acknowledged\n",
      "Acknowledged By\n",
      "Acknowledged Timestamp\n",
      "Alarm Ending Reason\n"
     ]
    }
   ],
   "source": [
    "# Import file\n",
    "df = pd.read_excel(report, sheet_name=sheetName)\n",
    "\n",
    "# Show column names\n",
    "print('Raw column names: ')\n",
    "print(' ')\n",
    "for col in df.columns:\n",
    "        print(col)"
   ]
  },
  {
   "cell_type": "markdown",
   "metadata": {},
   "source": [
    "## Clean column names"
   ]
  },
  {
   "cell_type": "code",
   "execution_count": 4,
   "metadata": {},
   "outputs": [
    {
     "name": "stdout",
     "output_type": "stream",
     "text": [
      "Fixed column names:\n",
      " \n",
      "device\n",
      "tags\n",
      "alarm_setpoint_message\n",
      "alarm_timestamp\n",
      "clear_timestamp\n",
      "clear_message\n",
      "alarm_setpoint\n",
      "recipients\n",
      "hours_currently_in_alarm\n",
      "acknowledged\n",
      "acknowledged_by\n",
      "acknowledged_timestamp\n",
      "alarm_ending_reason\n"
     ]
    }
   ],
   "source": [
    "# Clean column names\n",
    "df.columns = df.columns.str.strip().str.lower().str.replace(' ', '_').str.replace('(', '').str.replace(')', '')\n",
    "\n",
    "# Show column names\n",
    "print('Fixed column names:')\n",
    "print(' ')\n",
    "for col in df.columns:\n",
    "        print(col)"
   ]
  },
  {
   "cell_type": "markdown",
   "metadata": {},
   "source": [
    "## Show columns data types"
   ]
  },
  {
   "cell_type": "code",
   "execution_count": 5,
   "metadata": {},
   "outputs": [
    {
     "data": {
      "text/plain": [
       "device                              object\n",
       "tags                                object\n",
       "alarm_setpoint_message              object\n",
       "alarm_timestamp             datetime64[ns]\n",
       "clear_timestamp             datetime64[ns]\n",
       "clear_message                       object\n",
       "alarm_setpoint                      object\n",
       "recipients                          object\n",
       "hours_currently_in_alarm             int64\n",
       "acknowledged                          bool\n",
       "acknowledged_by                    float64\n",
       "acknowledged_timestamp             float64\n",
       "alarm_ending_reason                 object\n",
       "dtype: object"
      ]
     },
     "execution_count": 5,
     "metadata": {},
     "output_type": "execute_result"
    }
   ],
   "source": [
    "# Show data types\n",
    "df.dtypes"
   ]
  },
  {
   "cell_type": "markdown",
   "metadata": {},
   "source": [
    "## Get needed columns"
   ]
  },
  {
   "cell_type": "code",
   "execution_count": 6,
   "metadata": {},
   "outputs": [
    {
     "data": {
      "text/html": [
       "<div>\n",
       "<style scoped>\n",
       "    .dataframe tbody tr th:only-of-type {\n",
       "        vertical-align: middle;\n",
       "    }\n",
       "\n",
       "    .dataframe tbody tr th {\n",
       "        vertical-align: top;\n",
       "    }\n",
       "\n",
       "    .dataframe thead th {\n",
       "        text-align: right;\n",
       "    }\n",
       "</style>\n",
       "<table border=\"1\" class=\"dataframe\">\n",
       "  <thead>\n",
       "    <tr style=\"text-align: right;\">\n",
       "      <th></th>\n",
       "      <th>device</th>\n",
       "      <th>alarm_setpoint</th>\n",
       "    </tr>\n",
       "  </thead>\n",
       "  <tbody>\n",
       "    <tr>\n",
       "      <th>0</th>\n",
       "      <td>Briscoe G1 Skim Facility</td>\n",
       "      <td>Facility Status ESD Alarm</td>\n",
       "    </tr>\n",
       "    <tr>\n",
       "      <th>1</th>\n",
       "      <td>Briscoe G1 Skim Facility</td>\n",
       "      <td>Facility Status ESD Alarm</td>\n",
       "    </tr>\n",
       "    <tr>\n",
       "      <th>2</th>\n",
       "      <td>Briscoe G1 Skim Facility</td>\n",
       "      <td>Facility Status ESD Alarm</td>\n",
       "    </tr>\n",
       "    <tr>\n",
       "      <th>3</th>\n",
       "      <td>BRISCOE R (SA6) 367H</td>\n",
       "      <td>*T0 - ROC - Plunger - Cycle Status - Briscoe</td>\n",
       "    </tr>\n",
       "    <tr>\n",
       "      <th>4</th>\n",
       "      <td>Briscoe G1 Skim Facility</td>\n",
       "      <td>Facility Status ESD Alarm</td>\n",
       "    </tr>\n",
       "  </tbody>\n",
       "</table>\n",
       "</div>"
      ],
      "text/plain": [
       "                     device                                alarm_setpoint\n",
       "0  Briscoe G1 Skim Facility                     Facility Status ESD Alarm\n",
       "1  Briscoe G1 Skim Facility                     Facility Status ESD Alarm\n",
       "2  Briscoe G1 Skim Facility                     Facility Status ESD Alarm\n",
       "3      BRISCOE R (SA6) 367H  *T0 - ROC - Plunger - Cycle Status - Briscoe\n",
       "4  Briscoe G1 Skim Facility                     Facility Status ESD Alarm"
      ]
     },
     "execution_count": 6,
     "metadata": {},
     "output_type": "execute_result"
    }
   ],
   "source": [
    "# Removes not needed columns\n",
    "df_clean = df[['device','alarm_timestamp','alarm_setpoint','recipients']]\n",
    "\n",
    "# Create DF for device alarm count\n",
    "df_device = df_clean[['device', 'alarm_setpoint']]\n",
    "\n",
    "df_device.head()"
   ]
  },
  {
   "cell_type": "markdown",
   "metadata": {},
   "source": [
    "## Show and sort (desc) alarm quantities by \"device\" and \"alarm_setpoint\""
   ]
  },
  {
   "cell_type": "code",
   "execution_count": 7,
   "metadata": {},
   "outputs": [
    {
     "data": {
      "text/html": [
       "<div>\n",
       "<style scoped>\n",
       "    .dataframe tbody tr th:only-of-type {\n",
       "        vertical-align: middle;\n",
       "    }\n",
       "\n",
       "    .dataframe tbody tr th {\n",
       "        vertical-align: top;\n",
       "    }\n",
       "\n",
       "    .dataframe thead th {\n",
       "        text-align: right;\n",
       "    }\n",
       "</style>\n",
       "<table border=\"1\" class=\"dataframe\">\n",
       "  <thead>\n",
       "    <tr style=\"text-align: right;\">\n",
       "      <th></th>\n",
       "      <th>device</th>\n",
       "      <th>alarm_setpoint</th>\n",
       "      <th>count</th>\n",
       "    </tr>\n",
       "  </thead>\n",
       "  <tbody>\n",
       "    <tr>\n",
       "      <th>17</th>\n",
       "      <td>Briscoe G1 Skim Facility</td>\n",
       "      <td>Facility Status ESD Alarm</td>\n",
       "      <td>143</td>\n",
       "    </tr>\n",
       "    <tr>\n",
       "      <th>0</th>\n",
       "      <td>BRISCOE A1 LACT CK #1</td>\n",
       "      <td>*T0 - LACT_Check Meters - Comm Status</td>\n",
       "      <td>11</td>\n",
       "    </tr>\n",
       "    <tr>\n",
       "      <th>16</th>\n",
       "      <td>Briscoe G1 Skim Facility</td>\n",
       "      <td>*T1 - Briscoe G1 Skim Facility - Comm Loss</td>\n",
       "      <td>7</td>\n",
       "    </tr>\n",
       "    <tr>\n",
       "      <th>27</th>\n",
       "      <td>Galvan G1 Discharge</td>\n",
       "      <td>*T0  - Chemical - H2S - &gt;12 PPM - Eagle Ford</td>\n",
       "      <td>4</td>\n",
       "    </tr>\n",
       "    <tr>\n",
       "      <th>31</th>\n",
       "      <td>SAN AMBROSIA C 2H</td>\n",
       "      <td>*T0 - Plunger - No Flow After 4hrs - Briscoe</td>\n",
       "      <td>2</td>\n",
       "    </tr>\n",
       "  </tbody>\n",
       "</table>\n",
       "</div>"
      ],
      "text/plain": [
       "                      device                                alarm_setpoint  \\\n",
       "17  Briscoe G1 Skim Facility                     Facility Status ESD Alarm   \n",
       "0      BRISCOE A1 LACT CK #1         *T0 - LACT_Check Meters - Comm Status   \n",
       "16  Briscoe G1 Skim Facility    *T1 - Briscoe G1 Skim Facility - Comm Loss   \n",
       "27       Galvan G1 Discharge  *T0  - Chemical - H2S - >12 PPM - Eagle Ford   \n",
       "31         SAN AMBROSIA C 2H  *T0 - Plunger - No Flow After 4hrs - Briscoe   \n",
       "\n",
       "    count  \n",
       "17    143  \n",
       "0      11  \n",
       "16      7  \n",
       "27      4  \n",
       "31      2  "
      ]
     },
     "execution_count": 7,
     "metadata": {},
     "output_type": "execute_result"
    }
   ],
   "source": [
    "# Group by \"device\"\n",
    "device_count = df_device.groupby(['device','alarm_setpoint'])['alarm_setpoint'].count().reset_index(name='count').sort_values(['count'], ascending=False)\n",
    "\n",
    "# Sort Desc\n",
    "device_count.head(10)"
   ]
  },
  {
   "cell_type": "code",
   "execution_count": null,
   "metadata": {},
   "outputs": [],
   "source": []
  }
 ],
 "metadata": {
  "kernelspec": {
   "display_name": "Python 3",
   "language": "python",
   "name": "python3"
  },
  "language_info": {
   "codemirror_mode": {
    "name": "ipython",
    "version": 3
   },
   "file_extension": ".py",
   "mimetype": "text/x-python",
   "name": "python",
   "nbconvert_exporter": "python",
   "pygments_lexer": "ipython3",
   "version": "3.8.5"
  }
 },
 "nbformat": 4,
 "nbformat_minor": 4
}
